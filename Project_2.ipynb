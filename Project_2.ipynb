{
  "nbformat": 4,
  "nbformat_minor": 0,
  "metadata": {
    "colab": {
      "name": "Project 2.ipynb",
      "private_outputs": true,
      "provenance": [],
      "include_colab_link": true
    },
    "kernelspec": {
      "name": "python3",
      "display_name": "Python 3"
    },
    "language_info": {
      "name": "python"
    },
    "accelerator": "GPU"
  },
  "cells": [
    {
      "cell_type": "markdown",
      "metadata": {
        "id": "view-in-github",
        "colab_type": "text"
      },
      "source": [
        "<a href=\"https://colab.research.google.com/github/harraz/covid-12-predictor/blob/main/Project_2.ipynb\" target=\"_parent\"><img src=\"https://colab.research.google.com/assets/colab-badge.svg\" alt=\"Open In Colab\"/></a>"
      ]
    },
    {
      "cell_type": "code",
      "metadata": {
        "id": "0qZZAjnK3OZO"
      },
      "source": [
        "#!pip install tensorflow\n",
        "!pip install seaborn"
      ],
      "execution_count": null,
      "outputs": []
    },
    {
      "cell_type": "code",
      "metadata": {
        "id": "J4fdypcMC8GB"
      },
      "source": [
        "from google.colab import drive\n",
        "drive.mount('/content/drive')"
      ],
      "execution_count": null,
      "outputs": []
    },
    {
      "cell_type": "code",
      "metadata": {
        "id": "MvU3ydql3vua"
      },
      "source": [
        "import pandas as pd\n",
        "import seaborn as sns\n",
        "import tensorflow as tf\n",
        "from tensorflow import keras\n",
        "from tensorflow.keras import layers\n",
        "\n",
        "print(tf.__version__)"
      ],
      "execution_count": null,
      "outputs": []
    },
    {
      "cell_type": "code",
      "metadata": {
        "id": "RXGqHiag52KQ"
      },
      "source": [
        "raw_cdc_conditions_by_state=pd.read_csv(\"/content/drive/MyDrive/CS510/Project/cdc_agg_table_3_20210527.csv\")\n",
        "raw_cdc_conditions_by_state.tail()"
      ],
      "execution_count": null,
      "outputs": []
    },
    {
      "cell_type": "code",
      "metadata": {
        "id": "jzNuEWqr6qVG"
      },
      "source": [
        "cdc_conditions_by_state=raw_cdc_conditions_by_state.copy()\n",
        "cdc_conditions_by_state.info()"
      ],
      "execution_count": null,
      "outputs": []
    },
    {
      "cell_type": "code",
      "metadata": {
        "id": "pXNLXOdzBdPt"
      },
      "source": [
        "# load each csv file in the training data zip file and append to a raw data frame\n",
        "from zipfile import ZipFile\n",
        "\n",
        "training_files= '/content/drive/MyDrive/CS510/Project/csse_covid_19_daily_reports/training_set.zip'\n",
        "test_files= '/content/drive/MyDrive/CS510/Project/csse_covid_19_daily_reports/test_data.zip'\n",
        "\n",
        "raw_jhu_training_set = pd.concat(\n",
        "    [pd.read_csv(ZipFile(training_files).open(i)) for i in ZipFile(training_files).namelist()],\n",
        "    ignore_index=True\n",
        ")\n",
        "\n",
        "raw_jhu_testing_set = pd.concat(\n",
        "    [pd.read_csv(ZipFile(test_files).open(i)) for i in ZipFile(test_files).namelist()],\n",
        "    ignore_index=True\n",
        ")\n",
        "\n",
        "# import glob\n",
        "# import os\n",
        "\n",
        "# cols_needed=['Province_State','Deaths','Active','Confirmed','Recovered']\n",
        "\n",
        "# path = r'/content/drive/MyDrive/CS510/Project/csse_covid_19_daily_reports/training_set'\n",
        "# all_files = glob.glob(path + \"/*.csv\")\n",
        "\n",
        "# all_files = glob.glob(os.path.join(path, \"*.csv\"))\n",
        "\n",
        "# df_from_each_file = (pd.read_csv(f, usecols=cols_needed) for f in all_files)\n",
        "# raw_jhu_training_set   = pd.concat(df_from_each_file, ignore_index=False)\n",
        "\n",
        "# path = r'/content/drive/MyDrive/CS510/Project/csse_covid_19_daily_reports/test_data'\n",
        "# all_files = glob.glob(path + \"/*.csv\")\n",
        "\n",
        "# all_files = glob.glob(os.path.join(path, \"*.csv\"))\n",
        "\n",
        "# df_from_each_file = (pd.read_csv(f, usecols=cols_needed) for f in all_files)\n",
        "# raw_jhu_testing_set   = pd.concat(df_from_each_file, ignore_index=False)\n",
        "\n",
        "# raw_jhu_training_set = raw_jhu_training_set[raw_jhu_training_set['Province_State']=='Pennsylvania']\n",
        "# raw_jhu_training_set\n",
        "\n",
        "# raw_jhu_testing_set = raw_jhu_testing_set[raw_jhu_testing_set['Province_State']=='Pennsylvania']\n",
        "\n",
        "# tmp=raw_jhu_testing_set = raw_jhu_testing_set[raw_jhu_testing_set['Active'] ==0]\n",
        "# tmp\n"
      ],
      "execution_count": null,
      "outputs": []
    },
    {
      "cell_type": "code",
      "metadata": {
        "id": "cZNZ0kfSHpWS"
      },
      "source": [
        "raw_jhu_testing_set.head()"
      ],
      "execution_count": null,
      "outputs": []
    },
    {
      "cell_type": "code",
      "metadata": {
        "id": "oLQAnE3-RwFH"
      },
      "source": [
        "states_to_delete=['American Samoa', 'District of Columbia', 'Guam','Marshall Islands', 'Northern Mariana Island','Puerto Rico']\n",
        "raw_jhu_testing_set = raw_jhu_testing_set[~raw_jhu_testing_set.Province_State.isin(states_to_delete)]\n",
        "raw_jhu_training_set = raw_jhu_training_set[~raw_jhu_training_set.Province_State.isin(states_to_delete)]\n",
        "\n",
        "us_idx=raw_jhu_testing_set[raw_jhu_testing_set['Country_Region'] !='US'].index\n",
        "raw_jhu_testing_set.drop(us_idx,inplace=True)\n",
        "\n",
        "us_idx=raw_jhu_training_set[ raw_jhu_training_set['Country_Region'] !='US'].index\n",
        "raw_jhu_training_set.drop(us_idx,inplace=True)\n",
        "\n",
        "idx=raw_jhu_training_set.query('Confirmed <= 0').index\n",
        "idx2=(raw_jhu_training_set.query('Active <= 0').index)\n",
        "idx.append(idx2)\n",
        "raw_jhu_training_set.drop(idx,inplace=True)\n",
        "raw_jhu_training_set\n",
        "\n",
        "idx=raw_jhu_testing_set.query('Confirmed <= 0', engine='python').index\n",
        "idx2=(raw_jhu_testing_set.query('Active <= 0').index)\n",
        "idx.append(idx2)\n",
        "raw_jhu_testing_set.drop(idx,inplace=True)\n",
        "\n",
        "raw_jhu_training_set.fillna(0,inplace=True)\n",
        "raw_jhu_testing_set.fillna(0,inplace=True)\n"
      ],
      "execution_count": null,
      "outputs": []
    },
    {
      "cell_type": "code",
      "metadata": {
        "id": "rSjkYXMrIk5X"
      },
      "source": [
        "sns.pairplot(raw_jhu_training_set[['Confirmed','Active', 'Deaths', 'Recovered']], diag_kind='kde')"
      ],
      "execution_count": null,
      "outputs": []
    },
    {
      "cell_type": "code",
      "metadata": {
        "id": "mKXa9x0zRv_B"
      },
      "source": [
        "# join JHU training data with cdc conditions data using state\n",
        "cdc_jhu_training = pd.merge(raw_jhu_training_set, cdc_conditions_by_state, left_on='Province_State', right_on='LocationDesc', how=\"inner\")\n",
        "cdc_jhu_training.drop(['LocationDesc', 'LocationAbbr'], axis=1)\n",
        "cdc_jhu_training = cdc_jhu_training.get(['Province_State','Deaths','Active','Confirmed','OPD','Asthma','Smoking','Poverty','CVD'])\n",
        "\n",
        "\n",
        "cdc_jhu_testing = pd.merge(raw_jhu_testing_set, cdc_conditions_by_state, left_on='Province_State', right_on='LocationDesc', how=\"inner\")\n",
        "cdc_jhu_testing.drop(['LocationDesc', 'LocationAbbr'], axis=1)\n",
        "cdc_jhu_testing = cdc_jhu_testing.get(['Province_State','Deaths','Active','Confirmed','OPD','Asthma','Smoking','Poverty','CVD'])\n",
        "\n",
        "raw_jhu_testing_set.dropna(inplace=True)\n",
        "raw_jhu_training_set.dropna(inplace=True)\n",
        "\n",
        "cdc_jhu_training\n",
        "# cdc_jhu_training.to_csv('cdc_jhu_training.csv')\n"
      ],
      "execution_count": null,
      "outputs": []
    },
    {
      "cell_type": "code",
      "metadata": {
        "id": "Vmze4ajsU7mh"
      },
      "source": [
        "# one hot encoding\n",
        "cdc_jhu_training['AL']= (cdc_jhu_training.Province_State == 'Alabama') * 1.0\n",
        "cdc_jhu_training['AK']= (cdc_jhu_training.Province_State == 'Alaska') * 1.0\n",
        "cdc_jhu_training['AZ']= (cdc_jhu_training.Province_State == 'Arizona') * 1.0\n",
        "cdc_jhu_training['AR']= (cdc_jhu_training.Province_State == 'Arkansas') * 1.0\n",
        "cdc_jhu_training['CA']= (cdc_jhu_training.Province_State == 'California') * 1.0\n",
        "cdc_jhu_training['CO']= (cdc_jhu_training.Province_State == 'Colorado') * 1.0\n",
        "cdc_jhu_training['CT']= (cdc_jhu_training.Province_State == 'Connecticut') * 1.0\n",
        "cdc_jhu_training['DE']= (cdc_jhu_training.Province_State == 'Delaware') * 1.0\n",
        "cdc_jhu_training['FL']= (cdc_jhu_training.Province_State == 'Florida') * 1.0\n",
        "cdc_jhu_training['GA']= (cdc_jhu_training.Province_State == 'Georgia') * 1.0\n",
        "cdc_jhu_training['HI']= (cdc_jhu_training.Province_State == 'Hawaii') * 1.0\n",
        "cdc_jhu_training['ID']= (cdc_jhu_training.Province_State == 'Idaho') * 1.0\n",
        "cdc_jhu_training['IL']= (cdc_jhu_training.Province_State == 'Illinois') * 1.0\n",
        "cdc_jhu_training['IN']= (cdc_jhu_training.Province_State == 'Indiana') * 1.0\n",
        "cdc_jhu_training['IA']= (cdc_jhu_training.Province_State == 'Iowa') * 1.0\n",
        "cdc_jhu_training['KS']= (cdc_jhu_training.Province_State == 'Kansas') * 1.0\n",
        "cdc_jhu_training['KY']= (cdc_jhu_training.Province_State == 'Kentucky') * 1.0\n",
        "cdc_jhu_training['LA']= (cdc_jhu_training.Province_State == 'Louisiana') * 1.0\n",
        "cdc_jhu_training['ME']= (cdc_jhu_training.Province_State == 'Maine') * 1.0\n",
        "cdc_jhu_training['MD']= (cdc_jhu_training.Province_State == 'Maryland') * 1.0\n",
        "cdc_jhu_training['MA']= (cdc_jhu_training.Province_State == 'Massachusetts') * 1.0\n",
        "cdc_jhu_training['MI']= (cdc_jhu_training.Province_State == 'Michigan') * 1.0\n",
        "cdc_jhu_training['MN']= (cdc_jhu_training.Province_State == 'Minnesota') * 1.0\n",
        "cdc_jhu_training['MS']= (cdc_jhu_training.Province_State == 'Mississippi') * 1.0\n",
        "cdc_jhu_training['MO']= (cdc_jhu_training.Province_State == 'Missouri') * 1.0\n",
        "cdc_jhu_training['MT']= (cdc_jhu_training.Province_State == 'Montana') * 1.0\n",
        "cdc_jhu_training['NE']= (cdc_jhu_training.Province_State == 'Nebraska') * 1.0\n",
        "cdc_jhu_training['NV']= (cdc_jhu_training.Province_State == 'Nevada') * 1.0\n",
        "cdc_jhu_training['NH']= (cdc_jhu_training.Province_State == 'New Hampshire') * 1.0\n",
        "cdc_jhu_training['NJ']= (cdc_jhu_training.Province_State == 'New Jersey') * 1.0\n",
        "cdc_jhu_training['NM']= (cdc_jhu_training.Province_State == 'New Mexico') * 1.0\n",
        "cdc_jhu_training['NY']= (cdc_jhu_training.Province_State == 'New York') * 1.0\n",
        "cdc_jhu_training['NC']= (cdc_jhu_training.Province_State == 'North Carolina') * 1.0\n",
        "cdc_jhu_training['ND']= (cdc_jhu_training.Province_State == 'North Dakota') * 1.0\n",
        "cdc_jhu_training['OH']= (cdc_jhu_training.Province_State == 'Ohio') * 1.0\n",
        "cdc_jhu_training['OK']= (cdc_jhu_training.Province_State == 'Oklahoma') * 1.0\n",
        "cdc_jhu_training['OR']= (cdc_jhu_training.Province_State == 'Oregon') * 1.0\n",
        "cdc_jhu_training['PA']= (cdc_jhu_training.Province_State == 'Pennsylvania') * 1.0\n",
        "cdc_jhu_training['RI']= (cdc_jhu_training.Province_State == 'Rhode Island') * 1.0\n",
        "cdc_jhu_training['SC']= (cdc_jhu_training.Province_State == 'South Carolina') * 1.0\n",
        "cdc_jhu_training['SD']= (cdc_jhu_training.Province_State == 'South Dakota') * 1.0\n",
        "cdc_jhu_training['TN']= (cdc_jhu_training.Province_State == 'Tennessee') * 1.0\n",
        "cdc_jhu_training['TX']= (cdc_jhu_training.Province_State == 'Texas') * 1.0\n",
        "cdc_jhu_training['UT']= (cdc_jhu_training.Province_State == 'Utah') * 1.0\n",
        "cdc_jhu_training['VT']= (cdc_jhu_training.Province_State == 'Vermont') * 1.0\n",
        "cdc_jhu_training['VA']= (cdc_jhu_training.Province_State == 'Virginia') * 1.0\n",
        "cdc_jhu_training['WA']= (cdc_jhu_training.Province_State == 'Washington') * 1.0\n",
        "cdc_jhu_training['WV']= (cdc_jhu_training.Province_State == 'West Virginia') * 1.0\n",
        "cdc_jhu_training['WI']= (cdc_jhu_training.Province_State == 'Wisconsin') * 1.0\n",
        "cdc_jhu_training['WY']= (cdc_jhu_training.Province_State == 'Wyoming') * 1.0\n",
        "# cdc_jhu_training['AS']= (cdc_jhu_training.Province_State == 'American Samoa') * 1.0\n",
        "# cdc_jhu_training['DC']= (cdc_jhu_training.Province_State == 'District of Columbia') * 1.0\n",
        "# cdc_jhu_training['GU']= (cdc_jhu_training.Province_State == 'Guam') * 1.0\n",
        "# cdc_jhu_training['MH']= (cdc_jhu_training.Province_State == 'Marshall Islands') * 1.0\n",
        "# cdc_jhu_training['MP']= (cdc_jhu_training.Province_State == 'Northern Mariana Island') * 1.0\n",
        "# cdc_jhu_training['PR']= (cdc_jhu_training.Province_State == 'Puerto Rico') * 1.0\n",
        "\n",
        "# do the same for test data set\n",
        "cdc_jhu_testing['AL']= (cdc_jhu_testing.Province_State == 'Alabama') * 1.0\n",
        "cdc_jhu_testing['AK']= (cdc_jhu_testing.Province_State == 'Alaska') * 1.0\n",
        "cdc_jhu_testing['AZ']= (cdc_jhu_testing.Province_State == 'Arizona') * 1.0\n",
        "cdc_jhu_testing['AR']= (cdc_jhu_testing.Province_State == 'Arkansas') * 1.0\n",
        "cdc_jhu_testing['CA']= (cdc_jhu_testing.Province_State == 'California') * 1.0\n",
        "cdc_jhu_testing['CO']= (cdc_jhu_testing.Province_State == 'Colorado') * 1.0\n",
        "cdc_jhu_testing['CT']= (cdc_jhu_testing.Province_State == 'Connecticut') * 1.0\n",
        "cdc_jhu_testing['DE']= (cdc_jhu_testing.Province_State == 'Delaware') * 1.0\n",
        "cdc_jhu_testing['FL']= (cdc_jhu_testing.Province_State == 'Florida') * 1.0\n",
        "cdc_jhu_testing['GA']= (cdc_jhu_testing.Province_State == 'Georgia') * 1.0\n",
        "cdc_jhu_testing['HI']= (cdc_jhu_testing.Province_State == 'Hawaii') * 1.0\n",
        "cdc_jhu_testing['ID']= (cdc_jhu_testing.Province_State == 'Idaho') * 1.0\n",
        "cdc_jhu_testing['IL']= (cdc_jhu_testing.Province_State == 'Illinois') * 1.0\n",
        "cdc_jhu_testing['IN']= (cdc_jhu_testing.Province_State == 'Indiana') * 1.0\n",
        "cdc_jhu_testing['IA']= (cdc_jhu_testing.Province_State == 'Iowa') * 1.0\n",
        "cdc_jhu_testing['KS']= (cdc_jhu_testing.Province_State == 'Kansas') * 1.0\n",
        "cdc_jhu_testing['KY']= (cdc_jhu_testing.Province_State == 'Kentucky') * 1.0\n",
        "cdc_jhu_testing['LA']= (cdc_jhu_testing.Province_State == 'Louisiana') * 1.0\n",
        "cdc_jhu_testing['ME']= (cdc_jhu_testing.Province_State == 'Maine') * 1.0\n",
        "cdc_jhu_testing['MD']= (cdc_jhu_testing.Province_State == 'Maryland') * 1.0\n",
        "cdc_jhu_testing['MA']= (cdc_jhu_testing.Province_State == 'Massachusetts') * 1.0\n",
        "cdc_jhu_testing['MI']= (cdc_jhu_testing.Province_State == 'Michigan') * 1.0\n",
        "cdc_jhu_testing['MN']= (cdc_jhu_testing.Province_State == 'Minnesota') * 1.0\n",
        "cdc_jhu_testing['MS']= (cdc_jhu_testing.Province_State == 'Mississippi') * 1.0\n",
        "cdc_jhu_testing['MO']= (cdc_jhu_testing.Province_State == 'Missouri') * 1.0\n",
        "cdc_jhu_testing['MT']= (cdc_jhu_testing.Province_State == 'Montana') * 1.0\n",
        "cdc_jhu_testing['NE']= (cdc_jhu_testing.Province_State == 'Nebraska') * 1.0\n",
        "cdc_jhu_testing['NV']= (cdc_jhu_testing.Province_State == 'Nevada') * 1.0\n",
        "cdc_jhu_testing['NH']= (cdc_jhu_testing.Province_State == 'New Hampshire') * 1.0\n",
        "cdc_jhu_testing['NJ']= (cdc_jhu_testing.Province_State == 'New Jersey') * 1.0\n",
        "cdc_jhu_testing['NM']= (cdc_jhu_testing.Province_State == 'New Mexico') * 1.0\n",
        "cdc_jhu_testing['NY']= (cdc_jhu_testing.Province_State == 'New York') * 1.0\n",
        "cdc_jhu_testing['NC']= (cdc_jhu_testing.Province_State == 'North Carolina') * 1.0\n",
        "cdc_jhu_testing['ND']= (cdc_jhu_testing.Province_State == 'North Dakota') * 1.0\n",
        "cdc_jhu_testing['OH']= (cdc_jhu_testing.Province_State == 'Ohio') * 1.0\n",
        "cdc_jhu_testing['OK']= (cdc_jhu_testing.Province_State == 'Oklahoma') * 1.0\n",
        "cdc_jhu_testing['OR']= (cdc_jhu_testing.Province_State == 'Oregon') * 1.0\n",
        "cdc_jhu_testing['PA']= (cdc_jhu_testing.Province_State == 'Pennsylvania') * 1.0\n",
        "cdc_jhu_testing['RI']= (cdc_jhu_testing.Province_State == 'Rhode Island') * 1.0\n",
        "cdc_jhu_testing['SC']= (cdc_jhu_testing.Province_State == 'South Carolina') * 1.0\n",
        "cdc_jhu_testing['SD']= (cdc_jhu_testing.Province_State == 'South Dakota') * 1.0\n",
        "cdc_jhu_testing['TN']= (cdc_jhu_testing.Province_State == 'Tennessee') * 1.0\n",
        "cdc_jhu_testing['TX']= (cdc_jhu_testing.Province_State == 'Texas') * 1.0\n",
        "cdc_jhu_testing['UT']= (cdc_jhu_testing.Province_State == 'Utah') * 1.0\n",
        "cdc_jhu_testing['VT']= (cdc_jhu_testing.Province_State == 'Vermont') * 1.0\n",
        "cdc_jhu_testing['VA']= (cdc_jhu_testing.Province_State == 'Virginia') * 1.0\n",
        "cdc_jhu_testing['WA']= (cdc_jhu_testing.Province_State == 'Washington') * 1.0\n",
        "cdc_jhu_testing['WV']= (cdc_jhu_testing.Province_State == 'West Virginia') * 1.0\n",
        "cdc_jhu_testing['WI']= (cdc_jhu_testing.Province_State == 'Wisconsin') * 1.0\n",
        "cdc_jhu_testing['WY']= (cdc_jhu_testing.Province_State == 'Wyoming') * 1.0\n",
        "# cdc_jhu_testing['AS']= (cdc_jhu_testing.Province_State == 'American Samoa') * 1.0\n",
        "# cdc_jhu_testing['DC']= (cdc_jhu_testing.Province_State == 'District of Columbia') * 1.0\n",
        "# cdc_jhu_testing['GU']= (cdc_jhu_testing.Province_State == 'Guam') * 1.0\n",
        "# cdc_jhu_testing['MH']= (cdc_jhu_testing.Province_State == 'Marshall Islands') * 1.0\n",
        "# cdc_jhu_testing['MP']= (cdc_jhu_testing.Province_State == 'Northern Mariana Island') * 1.0\n",
        "# cdc_jhu_testing['PR']= (cdc_jhu_testing.Province_State == 'Puerto Rico') * 1.0\n"
      ],
      "execution_count": null,
      "outputs": []
    },
    {
      "cell_type": "code",
      "metadata": {
        "id": "hfzFVbYXw0Qs"
      },
      "source": [
        "cdc_jhu_training"
      ],
      "execution_count": null,
      "outputs": []
    },
    {
      "cell_type": "code",
      "metadata": {
        "id": "rCeh1WGuV7Ys"
      },
      "source": [
        "# drop some state columns \n",
        "# cdc_jhu_training.drop(cdc_jhu_training.columns[7:],axis=1,inplace=True)\n",
        "\n",
        "# cdc_jhu_testing.drop(cdc_jhu_testing.columns[7:],axis=1,inplace=True)\n",
        "\n",
        "cdc_jhu_training.pop('Province_State')\n",
        "cdc_jhu_testing.pop('Province_State')\n",
        "cdc_jhu_training.describe()"
      ],
      "execution_count": null,
      "outputs": []
    },
    {
      "cell_type": "code",
      "metadata": {
        "id": "7dla4Zu1b28S"
      },
      "source": [
        "sns.pairplot(cdc_jhu_training[['Deaths','Confirmed','Active','Poverty', 'CVD', 'OPD','Asthma']], diag_kind='kde')"
      ],
      "execution_count": null,
      "outputs": []
    },
    {
      "cell_type": "code",
      "metadata": {
        "id": "gTiRc_JXBqmS"
      },
      "source": [
        "train_stats = cdc_jhu_training.describe()\n",
        "train_stats.pop('Deaths')\n",
        "train_stats = train_stats.transpose()\n",
        "train_stats"
      ],
      "execution_count": null,
      "outputs": []
    },
    {
      "cell_type": "code",
      "metadata": {
        "id": "7tWIln_4G0G7"
      },
      "source": [
        "train_labels = cdc_jhu_training.pop('Deaths')\n",
        "test_labels = cdc_jhu_testing.pop('Deaths')\n",
        "\n",
        "train_labels"
      ],
      "execution_count": null,
      "outputs": []
    },
    {
      "cell_type": "code",
      "metadata": {
        "id": "qCz6vTTu-S95"
      },
      "source": [
        "def norm(x):\n",
        "  return (x - train_stats['mean']) / train_stats['std']\n",
        "normed_train_data = norm(cdc_jhu_training)\n",
        "normed_test_data = norm(cdc_jhu_testing)"
      ],
      "execution_count": null,
      "outputs": []
    },
    {
      "cell_type": "code",
      "metadata": {
        "id": "0nqw7It_IOgr"
      },
      "source": [
        "def build_model():\n",
        "  model = keras.Sequential([\n",
        "    layers.Dense(64, activation=tf.nn.sigmoid, input_shape=[len(normed_train_data.keys())]),\n",
        "    layers.Dense(64, activation=tf.nn.sigmoid),\n",
        "    layers.Dense(64, activation=tf.nn.sigmoid),\n",
        "    layers.Dense(1)\n",
        "  ])\n",
        "\n",
        "  optimizer = tf.keras.optimizers.RMSprop(0.001)\n",
        "\n",
        "  # optimizer = tf.keras.optimizers.Adam(learning_rate=0.01)\n",
        "\n",
        "  model.compile(loss='mse',\n",
        "                optimizer=optimizer,\n",
        "                metrics=['mse','mae'])\n",
        "  return model"
      ],
      "execution_count": null,
      "outputs": []
    },
    {
      "cell_type": "code",
      "metadata": {
        "id": "xWe6DcbjKRYk"
      },
      "source": [
        "model=build_model()"
      ],
      "execution_count": null,
      "outputs": []
    },
    {
      "cell_type": "code",
      "metadata": {
        "id": "MDCzxTQsKZyF"
      },
      "source": [
        "model.summary()"
      ],
      "execution_count": null,
      "outputs": []
    },
    {
      "cell_type": "code",
      "metadata": {
        "id": "5d5oHOKwKuO7"
      },
      "source": [
        "example_batch = normed_train_data[:10]\n",
        "example_batch\n",
        "\n",
        "example_result = model.predict(example_batch)\n",
        "example_result\n"
      ],
      "execution_count": null,
      "outputs": []
    },
    {
      "cell_type": "code",
      "metadata": {
        "id": "7LeJ1IdEQN9u"
      },
      "source": [
        "# display training progress\n",
        "class PrintDot(keras.callbacks.Callback):\n",
        "  def on_epoch_end(self, epoch, logs):\n",
        "    if epoch % 100 == 0: print('')\n",
        "    print('.', end='')\n",
        "\n",
        "EPOCHS = 1000\n",
        "early_stop = keras.callbacks.EarlyStopping(monitor='val_loss', patience=100)\n",
        "history = model.fit(\n",
        "    x=normed_train_data, y=train_labels, batch_size=None, epochs=EPOCHS, verbose='auto',\n",
        "    callbacks=[early_stop], validation_split=0.2, validation_data=None, shuffle=True,\n",
        "    class_weight=None, sample_weight=None, initial_epoch=0, steps_per_epoch=None,\n",
        "    validation_steps=None, validation_batch_size=None, validation_freq=1,\n",
        "    max_queue_size=10, workers=1, use_multiprocessing=True\n",
        ")\n",
        "\n",
        "# history = model.fit(\n",
        "#     normed_train_data, train_labels, \n",
        "#     epochs=EPOCHS, validation_split = 0.2, verbose=0,\n",
        "#     callbacks=[PrintDot()])"
      ],
      "execution_count": null,
      "outputs": []
    },
    {
      "cell_type": "code",
      "metadata": {
        "id": "ccWZJ1AqaeB1"
      },
      "source": [
        "hist = pd.DataFrame(history.history)\n",
        "hist['epoch'] = history.epoch\n",
        "hist.tail()"
      ],
      "execution_count": null,
      "outputs": []
    },
    {
      "cell_type": "code",
      "metadata": {
        "id": "1zRfCzebgQwy"
      },
      "source": [
        "history.history.keys()"
      ],
      "execution_count": null,
      "outputs": []
    },
    {
      "cell_type": "code",
      "metadata": {
        "id": "tsWjJHg-eOTa"
      },
      "source": [
        "import matplotlib.pyplot as plt\n",
        "\n",
        "def plot_history(history):\n",
        "  hist = pd.DataFrame(history.history)\n",
        "  hist['epoch'] = history.epoch\n",
        "\n",
        "  plt.figure()\n",
        "  plt.xlabel('Epoch')\n",
        "  plt.ylabel('Mean Absolute Error [Deaths]') \n",
        "  plt.plot(hist['epoch'], hist['mae'], label ='Train Error')\n",
        "  plt.plot(hist['epoch'], hist['val_mae'], label = 'Validation Error')\n",
        "  plt.gca()\n",
        "  plt.yscale('log')\n",
        "  plt.legend()\n",
        "  plt.ylim([10,3000])\n",
        "\n",
        "  plt.figure()\n",
        "  plt.xlabel('Epoch')\n",
        "  plt.ylabel('Mean Square Error [$Deaths^2$]') \n",
        "  plt.plot(hist['epoch'], hist['mse'], label ='Train Error')\n",
        "  # plt.plot(hist['epoch'], hist['val_mse'], label = 'Validation Mean Squared Error')\n",
        "  # plt.yscale('log')\n",
        "  plt.legend()\n",
        "  plt.ylim([20000,250000])\n",
        "plot_history(history)\n"
      ],
      "execution_count": null,
      "outputs": []
    },
    {
      "cell_type": "code",
      "metadata": {
        "id": "CacCZtOaB6D3"
      },
      "source": [
        "loss, mae, mse = model.evaluate(normed_test_data, test_labels, verbose=0)\n",
        "print(\"Testing set mean Absolute Error: {:5.7f} Deaths\".format(mae))\n",
        "\n",
        "#Testing set mean Absolute Error: 2393219.0000000 Deaths\n",
        "#Testing set mean Absolute Error: 1033921.6250000 Deaths (add layer)\n",
        "#Testing set mean Absolute Error: 1637497.3750000 Deaths (remove layer and use sigmoid)\n",
        "#Testing set mean Absolute Error: 582547.6250000 Deaths\n",
        "#Testing set mean Absolute Error: 1449834.2500000 Deaths\n",
        "#Testing set mean Absolute Error: 1420743.2500000 Deaths (added layer and patience to 20)\n",
        "# Testing set mean Absolute Error: 991202.8750000 Deaths (changed optimizer to )\n"
      ],
      "execution_count": null,
      "outputs": []
    },
    {
      "cell_type": "code",
      "metadata": {
        "id": "kzhZRUITD_8C"
      },
      "source": [
        "test_predictions = model.predict(normed_test_data).flatten()\n",
        "\n",
        "plt.scatter(test_labels, test_predictions)\n",
        "plt.xlabel(\"True Values [Deaths]\")\n",
        "plt.ylabel(\"Predictions [Deaths]\")\n",
        "plt.axis('equal')\n",
        "plt.axis('square')\n",
        "plt.xlim([0,plt.xlim()[1]])\n",
        "plt.ylim([0,plt.ylim()[1]])\n",
        "_ = plt.plot([-10,10],[-10,10])"
      ],
      "execution_count": null,
      "outputs": []
    },
    {
      "cell_type": "code",
      "metadata": {
        "id": "XkefYeuVFoJJ"
      },
      "source": [
        "err = test_predictions - test_labels\n",
        "plt.hist(err, bins=10)\n",
        "plt.xlabel(\"Predictin Error [Deaths]\")\n",
        "_ = plt.ylabel(\"count\")"
      ],
      "execution_count": null,
      "outputs": []
    }
  ]
}